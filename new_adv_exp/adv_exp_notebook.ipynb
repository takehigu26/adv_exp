{
 "cells": [
  {
   "cell_type": "code",
   "execution_count": 1,
   "metadata": {},
   "outputs": [],
   "source": [
    "from datasets import get_german, prep_data\n",
    "from evaluate import my_accuracy_score\n",
    "from train import get_base_model, get_adversarial_model\n",
    "import tensorflow as tf"
   ]
  },
  {
   "cell_type": "markdown",
   "metadata": {},
   "source": [
    "base_model = get_base_model(get_german)"
   ]
  },
  {
   "cell_type": "code",
   "execution_count": 2,
   "metadata": {
    "scrolled": true
   },
   "outputs": [
    {
     "name": "stdout",
     "output_type": "stream",
     "text": [
      "WARNING:tensorflow:Calling GradientTape.gradient on a persistent tape inside its context is significantly less efficient than calling it outside the context (it causes the gradient ops to be recorded on the tape, leading to increased CPU and memory usage). Only call GradientTape.gradient inside the context if you actually want to trace the gradient in order to compute higher order derivatives.\n",
      ">>> accuracy_score(adversarial_model) : 0.815\n"
     ]
    }
   ],
   "source": [
    "adv_model = get_adversarial_model(get_german, targets=[[1, 1], [15, -1]], alpha=0.1)"
   ]
  },
  {
   "cell_type": "code",
   "execution_count": null,
   "metadata": {},
   "outputs": [],
   "source": [
    "Xtr, Xts, ytr, yts = get_german()\n",
    "X_test, X_train, y_test, y_train = prep_data(Xtr, Xts, ytr, yts)"
   ]
  },
  {
   "cell_type": "code",
   "execution_count": null,
   "metadata": {},
   "outputs": [],
   "source": [
    "from __future__ import print_function\n",
    "import numpy as np\n",
    "from lime import lime_tabular\n",
    "np.random.seed(1)\n",
    "\n",
    "base_model_np = lambda X: base_model(X).numpy()\n",
    "\n",
    "explainer = lime_tabular.LimeTabularExplainer(X_train,\n",
    "                                                  feature_names = [\"feature_\"+str(i) for i in range(24)],#df.columns,\n",
    "                                                  class_names = ['Good', 'Bad'])\n",
    "#i = np.random.randint(0, X_test.shape[0])\n",
    "i = 6\n",
    "exp = explainer.explain_instance(X_test[i], base_model_np, num_features=10, top_labels=1)\n",
    "\n",
    "exp.show_in_notebook(show_table=True, show_all=False)"
   ]
  },
  {
   "cell_type": "code",
   "execution_count": null,
   "metadata": {},
   "outputs": [],
   "source": [
    "adv_model_np = lambda X: adv_model(X).numpy()\n",
    "\n",
    "explainer = lime_tabular.LimeTabularExplainer(X_train,\n",
    "                                                  feature_names = [\"feature_\"+str(i) for i in range(24)],\n",
    "                                                  class_names = ['Good', 'Bad'])\n",
    "\n",
    "#i = np.random.randint(0, Xts_float.shape[0])\n",
    "i = 6\n",
    "exp = explainer.explain_instance(X_test[i], adv_model_np, num_features=10, top_labels=1)\n",
    "\n",
    "exp.show_in_notebook(show_table=True, show_all=False)"
   ]
  }
 ],
 "metadata": {
  "kernelspec": {
   "display_name": "Python 3",
   "language": "python",
   "name": "python3"
  },
  "language_info": {
   "codemirror_mode": {
    "name": "ipython",
    "version": 3
   },
   "file_extension": ".py",
   "mimetype": "text/x-python",
   "name": "python",
   "nbconvert_exporter": "python",
   "pygments_lexer": "ipython3",
   "version": "3.8.5"
  }
 },
 "nbformat": 4,
 "nbformat_minor": 4
}
