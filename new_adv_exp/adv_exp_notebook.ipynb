{
 "cells": [
  {
   "cell_type": "code",
   "execution_count": 1,
   "metadata": {},
   "outputs": [
    {
     "ename": "SyntaxError",
     "evalue": "duplicate argument 'num_layers' in function definition (train.py, line 22)",
     "output_type": "error",
     "traceback": [
      "Traceback \u001b[0;36m(most recent call last)\u001b[0m:\n",
      "  File \u001b[1;32m\"/home/t.higuchi/.pyenv/versions/anaconda3-2020.02/envs/env0/lib/python3.8/site-packages/IPython/core/interactiveshell.py\"\u001b[0m, line \u001b[1;32m3417\u001b[0m, in \u001b[1;35mrun_code\u001b[0m\n    exec(code_obj, self.user_global_ns, self.user_ns)\n",
      "\u001b[0;36m  File \u001b[0;32m\"<ipython-input-1-3ae91c873e43>\"\u001b[0;36m, line \u001b[0;32m3\u001b[0;36m, in \u001b[0;35m<module>\u001b[0;36m\u001b[0m\n\u001b[0;31m    from train import get_base_model, get_adversarial_model\u001b[0m\n",
      "\u001b[0;36m  File \u001b[0;32m\"/home/t.higuchi/work/adv_exp/new_adv_exp/train.py\"\u001b[0;36m, line \u001b[0;32m22\u001b[0m\n\u001b[0;31m    def get_base_model(get_dataset, seed=49, num_layers=3, batch_size=200, num_layers=3, verbose=1, **kwargs):\u001b[0m\n\u001b[0m    ^\u001b[0m\n\u001b[0;31mSyntaxError\u001b[0m\u001b[0;31m:\u001b[0m duplicate argument 'num_layers' in function definition\n"
     ]
    }
   ],
   "source": [
    "from datasets import get_german, prep_data\n",
    "from evaluate import my_accuracy_score\n",
    "from train import get_base_model, get_adversarial_model\n",
    "import tensorflow as tf"
   ]
  },
  {
   "cell_type": "markdown",
   "metadata": {},
   "source": [
    "base_model = get_base_model(get_german)"
   ]
  },
  {
   "cell_type": "code",
   "execution_count": null,
   "metadata": {
    "scrolled": true
   },
   "outputs": [],
   "source": [
    "adv_model = get_adversarial_model(get_german, targets=[[1, 1], [15, -1]], alpha=0.1)"
   ]
  },
  {
   "cell_type": "code",
   "execution_count": null,
   "metadata": {},
   "outputs": [],
   "source": [
    "Xtr, Xts, ytr, yts = get_german()\n",
    "X_test, X_train, y_test, y_train = prep_data(Xtr, Xts, ytr, yts)"
   ]
  },
  {
   "cell_type": "code",
   "execution_count": null,
   "metadata": {},
   "outputs": [],
   "source": [
    "from __future__ import print_function\n",
    "import numpy as np\n",
    "from lime import lime_tabular\n",
    "np.random.seed(1)\n",
    "\n",
    "base_model_np = lambda X: base_model(X).numpy()\n",
    "\n",
    "explainer = lime_tabular.LimeTabularExplainer(X_train,\n",
    "                                                  feature_names = [\"feature_\"+str(i) for i in range(24)],#df.columns,\n",
    "                                                  class_names = ['Good', 'Bad'])\n",
    "#i = np.random.randint(0, X_test.shape[0])\n",
    "i = 6\n",
    "exp = explainer.explain_instance(X_test[i], base_model_np, num_features=10, top_labels=1)\n",
    "\n",
    "exp.show_in_notebook(show_table=True, show_all=False)"
   ]
  },
  {
   "cell_type": "code",
   "execution_count": null,
   "metadata": {},
   "outputs": [],
   "source": [
    "adv_model_np = lambda X: adv_model(X).numpy()\n",
    "\n",
    "explainer = lime_tabular.LimeTabularExplainer(X_train,\n",
    "                                                  feature_names = [\"feature_\"+str(i) for i in range(24)],\n",
    "                                                  class_names = ['Good', 'Bad'])\n",
    "\n",
    "#i = np.random.randint(0, Xts_float.shape[0])\n",
    "i = 6\n",
    "exp = explainer.explain_instance(X_test[i], adv_model_np, num_features=10, top_labels=1)\n",
    "\n",
    "exp.show_in_notebook(show_table=True, show_all=False)"
   ]
  }
 ],
 "metadata": {
  "kernelspec": {
   "display_name": "Python 3",
   "language": "python",
   "name": "python3"
  },
  "language_info": {
   "codemirror_mode": {
    "name": "ipython",
    "version": 3
   },
   "file_extension": ".py",
   "mimetype": "text/x-python",
   "name": "python",
   "nbconvert_exporter": "python",
   "pygments_lexer": "ipython3",
   "version": "3.8.5"
  }
 },
 "nbformat": 4,
 "nbformat_minor": 4
}
